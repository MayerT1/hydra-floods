{
 "cells": [
  {
   "cell_type": "code",
   "execution_count": 2,
   "metadata": {},
   "outputs": [
    {
     "name": "stdout",
     "output_type": "stream",
     "text": [
      "Populating the interactive namespace from numpy and matplotlib\n"
     ]
    },
    {
     "name": "stderr",
     "output_type": "stream",
     "text": [
      "/home/ubuntu/anaconda3/envs/hydra/lib/python3.6/site-packages/IPython/core/magics/pylab.py:160: UserWarning:\n",
      "\n",
      "pylab import has clobbered these variables: ['Annotation', 'Figure']\n",
      "`%matplotlib` prevents importing * from pylab and numpy\n",
      "\n"
     ]
    }
   ],
   "source": [
    "import numpy as np\n",
    "import pandas as pd\n",
    "import matplotlib.pyplot as pl\n",
    "from osgeo import gdal\n",
    "import pandas as pd\n",
    "%pylab inline"
   ]
  },
  {
   "cell_type": "code",
   "execution_count": 3,
   "metadata": {},
   "outputs": [
    {
     "ename": "AttributeError",
     "evalue": "'NoneType' object has no attribute 'GetSubDatasets'",
     "output_type": "error",
     "traceback": [
      "\u001b[0;31m---------------------------------------------------------------------------\u001b[0m",
      "\u001b[0;31mAttributeError\u001b[0m                            Traceback (most recent call last)",
      "\u001b[0;32m<ipython-input-3-8ffa89442039>\u001b[0m in \u001b[0;36m<module>\u001b[0;34m()\u001b[0m\n\u001b[1;32m      1\u001b[0m \u001b[0matms\u001b[0m\u001b[0;34m=\u001b[0m\u001b[0mgdal\u001b[0m\u001b[0;34m.\u001b[0m\u001b[0mOpen\u001b[0m\u001b[0;34m(\u001b[0m\u001b[0;34m'../data/test/SATMS_npp_d20180308_t1255440_e1303436_b32960_c20180308190342349213_nobc_ops.h5'\u001b[0m\u001b[0;34m,\u001b[0m \u001b[0mgdal\u001b[0m\u001b[0;34m.\u001b[0m\u001b[0mGA_ReadOnly\u001b[0m\u001b[0;34m)\u001b[0m\u001b[0;34m\u001b[0m\u001b[0m\n\u001b[0;32m----> 2\u001b[0;31m \u001b[0msubdata2\u001b[0m \u001b[0;34m=\u001b[0m \u001b[0matms\u001b[0m\u001b[0;34m.\u001b[0m\u001b[0mGetSubDatasets\u001b[0m\u001b[0;34m(\u001b[0m\u001b[0;34m)\u001b[0m\u001b[0;34m\u001b[0m\u001b[0m\n\u001b[0m\u001b[1;32m      3\u001b[0m \u001b[0msubdata2\u001b[0m\u001b[0;34m\u001b[0m\u001b[0m\n",
      "\u001b[0;31mAttributeError\u001b[0m: 'NoneType' object has no attribute 'GetSubDatasets'"
     ]
    }
   ],
   "source": [
    "atms=gdal.Open('../data/test/SATMS_npp_d20180308_t1255440_e1303436_b32960_c20180308190342349213_nobc_ops.h5', gdal.GA_ReadOnly)\n",
    "subdata2 = atms.GetSubDatasets()\n",
    "subdata2"
   ]
  },
  {
   "cell_type": "code",
   "execution_count": null,
   "metadata": {},
   "outputs": [],
   "source": [
    "BT = gdal.Open('HDF5:\"../data/test/SATMS_npp_d20180308_t1255440_e1303436_b32960_c20180308190342349213_nobc_ops.h5\"://All_Data/ATMS-SDR_All/BrightnessTemperature')\n",
    "GainCal = gdal.Open('HDF5:\"../data/test/SATMS_npp_d20180308_t1255440_e1303436_b32960_c20180308190342349213_nobc_ops.h5\"://All_Data/ATMS-SDR_All/GainCalibration')\n",
    "NEdTc = gdal.Open('HDF5:\"../data/test/SATMS_npp_d20180308_t1255440_e1303436_b32960_c20180308190342349213_nobc_ops.h5\"://All_Data/ATMS-SDR_All/NEdTCold')\n",
    "NEdTw = gdal.Open('HDF5:\"../data/test/SATMS_npp_d20180308_t1255440_e1303436_b32960_c20180308190342349213_nobc_ops.h5\"://All_Data/ATMS-SDR_All/NEdTWarm')\n",
    "QF20 = gdal.Open('HDF5:\"../data/test/SATMS_npp_d20180308_t1255440_e1303436_b32960_c20180308190342349213_nobc_ops.h5\"://All_Data/ATMS-SDR_All/QF20_ATMSSDR')\n",
    "QF21 = gdal.Open('HDF5:\"../data/test/SATMS_npp_d20180308_t1255440_e1303436_b32960_c20180308190342349213_nobc_ops.h5\"://All_Data/ATMS-SDR_All/QF21_ATMSSDR')\n",
    "QF22 = gdal.Open('HDF5:\"../data/test/SATMS_npp_d20180308_t1255440_e1303436_b32960_c20180308190342349213_nobc_ops.h5\"://All_Data/ATMS-SDR_All/QF22_ATMSSDR')\n",
    "lat = gdal.Open('HDF5:\"../data/test/GATMO_npp_d20180308_t1255440_e1303436_b32960_c20180308190342336760_nobc_ops.h5\"://All_Data/ATMS-SDR-GEO_All/Latitude')\n",
    "lon = gdal.Open('HDF5:\"../data/test/GATMO_npp_d20180308_t1255440_e1303436_b32960_c20180308190342336760_nobc_ops.h5\"://All_Data/ATMS-SDR-GEO_All/Longitude')\n",
    "view = gdal.Open('HDF5:\"../data/test/GATMO_npp_d20180308_t1255440_e1303436_b32960_c20180308190342336760_nobc_ops.h5\"://All_Data/ATMS-SDR-GEO_All/SatelliteZenithAngle')"
   ]
  },
  {
   "cell_type": "code",
   "execution_count": null,
   "metadata": {},
   "outputs": [],
   "source": [
    "#BT and other data in array format\n",
    "BTr = BT.ReadAsArray()\n",
    "GainCalr = GainCal.ReadAsArray()\n",
    "NEdTcr = NEdTc.ReadAsArray()\n",
    "NEdTwr = NEdTw.ReadAsArray()\n",
    "QF20r = QF20.ReadAsArray()\n",
    "QF21r = QF21.ReadAsArray()\n",
    "QF22r = QF22.ReadAsArray()\n",
    "lats = lat.ReadAsArray()\n",
    "lons = lon.ReadAsArray()\n",
    "views = view.ReadAsArray()"
   ]
  },
  {
   "cell_type": "code",
   "execution_count": null,
   "metadata": {},
   "outputs": [],
   "source": [
    "ATMS_sub = gdal.Open(atms.GetSubDatasets()[1][0], gdal.GA_ReadOnly)\n",
    "ATMS_array = ATMS_sub.ReadAsArray()\n",
    "print(QF20r.shape)\n",
    "GainCalr.shape"
   ]
  },
  {
   "cell_type": "code",
   "execution_count": null,
   "metadata": {},
   "outputs": [],
   "source": [
    "imshow(np.flipud(views)>50)"
   ]
  },
  {
   "cell_type": "code",
   "execution_count": null,
   "metadata": {},
   "outputs": [],
   "source": [
    "test = np.zeros_like(BTr).astype(np.uint16)\n",
    "for i in range(BTr.shape[2]):\n",
    "    for j in range(BTr.shape[0]):\n",
    "        test[j,:,i] = (BTr[j,:,i].astype(int) * GainCalr[j,i]) *0.0001"
   ]
  },
  {
   "cell_type": "code",
   "execution_count": null,
   "metadata": {},
   "outputs": [],
   "source": [
    "print(BTr.shape,lats.shape)\n",
    "\n",
    "import cartopy.crs as ccrs\n",
    "ax = pl.axes(projection=ccrs.PlateCarree())\n",
    "plt.pcolormesh(lons, lats, test[:,:,0]>170,transform=ccrs.PlateCarree(),cmap='Blues_r')\n",
    "\n",
    "ax.coastlines(color='gray')"
   ]
  },
  {
   "cell_type": "code",
   "execution_count": null,
   "metadata": {},
   "outputs": [],
   "source": [
    "df = pd.read_hdf('../data/cal/atms_mlc_coeffs.hdf','table')\n",
    "cols = ['C1','C2','C3','C4','C5','C6','C7','C8','C9','C10','C11','C12','C13','C14','C15','C16','C17','C18','C19','C20','C21','C22',]\n",
    "df = pd.DataFrame(df,columns = cols)\n",
    "\n",
    "coeffs = df.to_dict()\n",
    "\n",
    "keys = list(coeffs.keys())\n",
    "print(keys)\n",
    "\n",
    "cal_mlc = np.zeros_like(test)\n",
    "\n",
    "for c in range(len(keys)):\n",
    "    chnl = keys[c]\n",
    "    tbi = coeffs[chnl]['Tbi']\n",
    "    preds = coeffs[chnl]['predictors']\n",
    "    popt = coeffs [chnl]['popt']\n",
    "    for i in range(cal_mlc.shape[0]):\n",
    "        factor = np.zeros(cal_mlc.shape[1])\n",
    "        for j in range(popt.size):\n",
    "            factor = factor + (popt[j]*(test[i,:,preds[j]]-coeffs[keys[j]]['Tbij']))\n",
    "        cal_mlc[i,:,c] = tbi + factor"
   ]
  },
  {
   "cell_type": "code",
   "execution_count": null,
   "metadata": {},
   "outputs": [],
   "source": [
    "imshow(np.flipud(test[:,:,3]))\n",
    "colorbar()\n",
    "title('Raw ATMS - Channel 4')"
   ]
  },
  {
   "cell_type": "code",
   "execution_count": null,
   "metadata": {},
   "outputs": [],
   "source": [
    "imshow(np.flipud(cal_mlc[:,:,3]))\n",
    "colorbar()\n",
    "title('Microwave Limb Corrected - Channel 4')"
   ]
  },
  {
   "cell_type": "code",
   "execution_count": null,
   "metadata": {},
   "outputs": [],
   "source": [
    "transO = np.mean(test[:,:,3],axis=0)\n",
    "transT = np.mean(cal_mlc[:,:,3],axis=0)\n",
    "\n",
    "plot(transO)\n",
    "plot(transT)"
   ]
  },
  {
   "cell_type": "code",
   "execution_count": null,
   "metadata": {},
   "outputs": [],
   "source": [
    "rain = cal_mlc[:,:,15] - cal_mlc[:,:,0]\n",
    "ax = pl.axes(projection=ccrs.PlateCarree())\n",
    "plt.pcolormesh(lons, lats, rain>10,transform=ccrs.PlateCarree(),cmap='Blues_r')\n",
    "\n",
    "ax.coastlines(color='gray')"
   ]
  },
  {
   "cell_type": "code",
   "execution_count": null,
   "metadata": {},
   "outputs": [],
   "source": [
    "rain = cal_mlc[:,:,15] - cal_mlc[:,:,0]\n",
    "plt.imshow(np.flipud(rain)<10)"
   ]
  },
  {
   "cell_type": "code",
   "execution_count": null,
   "metadata": {},
   "outputs": [],
   "source": [
    "import pysptools.util as util\n",
    "import pysptools.eea as eea\n",
    "import pysptools.abundance_maps as amp"
   ]
  },
  {
   "cell_type": "code",
   "execution_count": null,
   "metadata": {},
   "outputs": [],
   "source": [
    "btDiff = (cal_mlc[:,:,3].astype(np.float)-cal_mlc[:,:,2])\n",
    "idx = np.where(views<50)\n",
    "print(idx)\n",
    "samps = btDiff[idx]\n",
    "print(btDiff.shape)\n",
    "samps = samps[:,np.newaxis,np.newaxis]\n",
    "\n",
    "nfindr = eea.NFINDR()\n",
    "U = nfindr.extract(samps, 2, maxit=50, normalize=True, ATGP_init=True)"
   ]
  },
  {
   "cell_type": "code",
   "execution_count": null,
   "metadata": {},
   "outputs": [],
   "source": [
    "nfindr.display()"
   ]
  },
  {
   "cell_type": "code",
   "execution_count": null,
   "metadata": {},
   "outputs": [],
   "source": [
    "nnls = amp.NNLS()\n",
    "amaps = nnls.map(btDiff[:,:,np.newaxis], U, normalize=True)\n",
    "print(U)"
   ]
  },
  {
   "cell_type": "code",
   "execution_count": null,
   "metadata": {},
   "outputs": [],
   "source": [
    "ax = pl.axes(projection=ccrs.PlateCarree())\n",
    "plt.pcolormesh(lons, lats, amaps[:,:,0],transform=ccrs.PlateCarree())\n"
   ]
  },
  {
   "cell_type": "code",
   "execution_count": null,
   "metadata": {},
   "outputs": [],
   "source": [
    "fWater = np.ma.masked_where(views>50,amaps[:,:,0])\n",
    "fWater = np.ma.masked_where(rain>10,fWater)\n",
    "\n",
    "fig, ax = plt.subplots()\n",
    "ax = pl.axes(projection=ccrs.PlateCarree())\n",
    "cb = plt.pcolormesh(lons, lats, fWater,transform=ccrs.PlateCarree(),cmap='Blues')\n",
    "ax.coastlines(color='gray')\n",
    "\n",
    "cax = fig.add_axes([0.125, 0.05, 0.775, 0.02])\n",
    "fig.colorbar(cb, cax=cax, orientation='horizontal')\n"
   ]
  }
 ],
 "metadata": {
  "kernelspec": {
   "display_name": "hydra",
   "language": "python",
   "name": "hydra"
  },
  "language_info": {
   "codemirror_mode": {
    "name": "ipython",
    "version": 3
   },
   "file_extension": ".py",
   "mimetype": "text/x-python",
   "name": "python",
   "nbconvert_exporter": "python",
   "pygments_lexer": "ipython3",
   "version": "3.6.5"
  }
 },
 "nbformat": 4,
 "nbformat_minor": 2
}
